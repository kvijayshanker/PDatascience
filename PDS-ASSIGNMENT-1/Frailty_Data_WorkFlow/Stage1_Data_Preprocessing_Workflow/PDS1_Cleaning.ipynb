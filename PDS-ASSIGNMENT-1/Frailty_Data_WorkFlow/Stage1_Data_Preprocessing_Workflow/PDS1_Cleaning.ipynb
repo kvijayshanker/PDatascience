{
 "cells": [
  {
   "cell_type": "code",
   "execution_count": 3,
   "id": "244a5ed1",
   "metadata": {},
   "outputs": [],
   "source": [
    "# PDS1_cleaning.ipynb\n",
    "\n",
    "import pandas as pd\n",
    "\n",
    "# Step-1: We need to load the raw data inorder to perform data cleaning\n",
    "given_raw_data = pd.read_csv(\"C:\\\\Users\\\\Vijay Shanker\\\\Downloads\\\\given_raw_data.csv\")\n",
    "\n",
    "# step-2: In this step, we perform Data cleaning and preprocessing\n",
    "# Removing duplicates from given data set.\n",
    "clean_data = given_raw_data.drop_duplicates()\n",
    "# Checks for missing values from given data set.\n",
    "clean_data = given_raw_data.isnull()\n",
    "# Removes rows or columns with missing values from given data set.\n",
    "clean_data = given_raw_data.dropna()\n",
    "\n",
    "\n",
    "# As given fartilty depends on force which is in kgs Converting  Weight to kilograms from pounds\n",
    "clean_data['Weight (kg)'] = clean_data['Weight'] * 0.453592\n",
    "\n",
    "# Finally, Save the clean data\n",
    "clean_data.to_csv(\"clean_data.csv\", index=False)"
   ]
  },
  {
   "cell_type": "code",
   "execution_count": null,
   "id": "d05c1563",
   "metadata": {},
   "outputs": [],
   "source": []
  },
  {
   "cell_type": "code",
   "execution_count": null,
   "id": "9d98d3a7",
   "metadata": {},
   "outputs": [],
   "source": []
  }
 ],
 "metadata": {
  "kernelspec": {
   "display_name": "Python 3 (ipykernel)",
   "language": "python",
   "name": "python3"
  },
  "language_info": {
   "codemirror_mode": {
    "name": "ipython",
    "version": 3
   },
   "file_extension": ".py",
   "mimetype": "text/x-python",
   "name": "python",
   "nbconvert_exporter": "python",
   "pygments_lexer": "ipython3",
   "version": "3.11.4"
  }
 },
 "nbformat": 4,
 "nbformat_minor": 5
}
