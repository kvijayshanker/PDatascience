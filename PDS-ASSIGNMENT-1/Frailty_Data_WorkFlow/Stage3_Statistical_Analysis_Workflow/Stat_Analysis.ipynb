{
 "cells": [
  {
   "cell_type": "code",
   "execution_count": 4,
   "id": "f769d681",
   "metadata": {},
   "outputs": [
    {
     "name": "stdout",
     "output_type": "stream",
     "text": [
      "                            OLS Regression Results                            \n",
      "==============================================================================\n",
      "Dep. Variable:          Grip strength   R-squared:                       0.001\n",
      "Model:                            OLS   Adj. R-squared:                 -0.124\n",
      "Method:                 Least Squares   F-statistic:                  0.008620\n",
      "Date:                Tue, 26 Sep 2023   Prob (F-statistic):              0.928\n",
      "Time:                        19:07:15   Log-Likelihood:                -28.746\n",
      "No. Observations:                  10   AIC:                             61.49\n",
      "Df Residuals:                       8   BIC:                             62.10\n",
      "Df Model:                           1                                         \n",
      "Covariance Type:            nonrobust                                         \n",
      "===============================================================================\n",
      "                  coef    std err          t      P>|t|      [0.025      0.975]\n",
      "-------------------------------------------------------------------------------\n",
      "const          24.6252     14.885      1.654      0.137      -9.700      58.951\n",
      "Weight (kg)     0.0230      0.248      0.093      0.928      -0.548       0.594\n",
      "==============================================================================\n",
      "Omnibus:                        2.220   Durbin-Watson:                   1.040\n",
      "Prob(Omnibus):                  0.330   Jarque-Bera (JB):                0.976\n",
      "Skew:                          -0.321   Prob(JB):                        0.614\n",
      "Kurtosis:                       1.611   Cond. No.                         591.\n",
      "==============================================================================\n",
      "\n",
      "Notes:\n",
      "[1] Standard Errors assume that the covariance matrix of the errors is correctly specified.\n",
      "count    10.000000\n",
      "mean     32.500000\n",
      "std      12.860361\n",
      "min      17.000000\n",
      "25%      22.250000\n",
      "50%      29.500000\n",
      "75%      43.500000\n",
      "max      51.000000\n",
      "Name: Age, dtype: float64\n",
      "N    6\n",
      "Y    4\n",
      "Name: Frailty, dtype: int64\n"
     ]
    },
    {
     "name": "stderr",
     "output_type": "stream",
     "text": [
      "C:\\anaconda\\Lib\\site-packages\\scipy\\stats\\_stats_py.py:1736: UserWarning: kurtosistest only valid for n>=20 ... continuing anyway, n=10\n",
      "  warnings.warn(\"kurtosistest only valid for n>=20 ... continuing \"\n"
     ]
    }
   ],
   "source": [
    "import pandas as pd\n",
    "import statsmodels.api as sm\n",
    "\n",
    "# Now put the clean data into variable\n",
    "data = pd.read_csv(\"C:\\\\Users\\\\Vijay Shanker\\\\Downloads\\\\pds files\\\\clean_data.csv\")\n",
    "\n",
    "daf = pd.DataFrame(data)\n",
    "\n",
    "# Perform linear regression\n",
    "X = daf['Weight (kg)']\n",
    "y = daf['Grip strength']\n",
    "X = sm.add_constant(X)  # Intercept is added\n",
    "final_model = sm.OLS(y, X).fit()\n",
    "\n",
    "# Show regression summary\n",
    "print(final_model.summary())\n",
    "\n",
    "# now Calculate descriptive statistics for Age\n",
    "age_statis = df['Age'].describe()\n",
    "print(age_statis)\n",
    "\n",
    "\n",
    "# Calculate frequency distribution of Frailty\n",
    "frailty_count = df['Frailty'].value_counts()\n",
    "print(frailty_count)\n",
    "\n",
    "\n",
    "\n",
    "\n",
    "\n",
    "\n",
    "\n"
   ]
  },
  {
   "cell_type": "code",
   "execution_count": null,
   "id": "a10183b3",
   "metadata": {},
   "outputs": [],
   "source": []
  }
 ],
 "metadata": {
  "kernelspec": {
   "display_name": "Python 3 (ipykernel)",
   "language": "python",
   "name": "python3"
  },
  "language_info": {
   "codemirror_mode": {
    "name": "ipython",
    "version": 3
   },
   "file_extension": ".py",
   "mimetype": "text/x-python",
   "name": "python",
   "nbconvert_exporter": "python",
   "pygments_lexer": "ipython3",
   "version": "3.11.4"
  }
 },
 "nbformat": 4,
 "nbformat_minor": 5
}
