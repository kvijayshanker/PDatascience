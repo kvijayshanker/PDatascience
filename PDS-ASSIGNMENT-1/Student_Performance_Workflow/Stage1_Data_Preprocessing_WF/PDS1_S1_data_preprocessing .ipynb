{
 "cells": [
  {
   "cell_type": "code",
   "execution_count": 2,
   "id": "0b042d76",
   "metadata": {},
   "outputs": [],
   "source": [
    "# data_preprocessing.ipynb\n",
    "\n",
    "import pandas as pd\n",
    "\n",
    "# Load raw data\n",
    "given_raw_data = pd.read_csv(\"C:\\\\Users\\\\Vijay Shanker\\\\Downloads\\\\raw_student_data.csv\")\n",
    "\n",
    "# Data cleaning and preprocessing\n",
    "# Like removing duplicates\n",
    "clean_data = given_raw_data.drop_duplicates()\n",
    "\n",
    "# Calculating average score of  every student\n",
    "clean_data['average score'] = (clean_data['reading score']+clean_data['math score']+clean_data['writing score'])//3\n",
    "\n",
    "# Save clean data\n",
    "clean_data.to_csv(\"clean_data.csv\", index=False)\n",
    "\n"
   ]
  },
  {
   "cell_type": "code",
   "execution_count": null,
   "id": "934baedd",
   "metadata": {},
   "outputs": [],
   "source": []
  },
  {
   "cell_type": "code",
   "execution_count": null,
   "id": "f445dcde",
   "metadata": {},
   "outputs": [],
   "source": []
  }
 ],
 "metadata": {
  "kernelspec": {
   "display_name": "Python 3 (ipykernel)",
   "language": "python",
   "name": "python3"
  },
  "language_info": {
   "codemirror_mode": {
    "name": "ipython",
    "version": 3
   },
   "file_extension": ".py",
   "mimetype": "text/x-python",
   "name": "python",
   "nbconvert_exporter": "python",
   "pygments_lexer": "ipython3",
   "version": "3.11.4"
  }
 },
 "nbformat": 4,
 "nbformat_minor": 5
}
